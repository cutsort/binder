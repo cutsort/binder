{
 "cells": [
  {
   "cell_type": "markdown",
   "metadata": {},
   "source": [
    "# Learning objectives"
   ]
  },
  {
   "cell_type": "markdown",
   "metadata": {},
   "source": [
    "1. Discuss GTEx RNA-seq\n",
    "2. Practice data frame manipulation\n",
    "3. Cluster samples by patterns of gene expression\n",
    "4. Assess what these clusters represent"
   ]
  },
  {
   "cell_type": "markdown",
   "metadata": {},
   "source": [
    "# Load packages "
   ]
  },
  {
   "cell_type": "code",
   "execution_count": 2,
   "metadata": {},
   "outputs": [],
   "source": [
    "import numpy as np\n",
    "import pandas as pd\n",
    "from sklearn.preprocessing import StandardScaler\n",
    "from sklearn.decomposition import PCA\n",
    "import matplotlib.pyplot as plt"
   ]
  },
  {
   "cell_type": "markdown",
   "metadata": {},
   "source": [
    "# GTEx RPKMs"
   ]
  },
  {
   "cell_type": "markdown",
   "metadata": {},
   "source": [
    "## Load data"
   ]
  },
  {
   "cell_type": "code",
   "execution_count": 7,
   "metadata": {},
   "outputs": [
    {
     "data": {
      "text/html": [
       "<div>\n",
       "<style scoped>\n",
       "    .dataframe tbody tr th:only-of-type {\n",
       "        vertical-align: middle;\n",
       "    }\n",
       "\n",
       "    .dataframe tbody tr th {\n",
       "        vertical-align: top;\n",
       "    }\n",
       "\n",
       "    .dataframe thead th {\n",
       "        text-align: right;\n",
       "    }\n",
       "</style>\n",
       "<table border=\"1\" class=\"dataframe\">\n",
       "  <thead>\n",
       "    <tr style=\"text-align: right;\">\n",
       "      <th></th>\n",
       "      <th>Name</th>\n",
       "      <th>Description</th>\n",
       "      <th>GTEX-N7MS-0007-SM-2D7W1</th>\n",
       "      <th>GTEX-N7MS-0011-R10A-SM-2HMJK</th>\n",
       "      <th>GTEX-N7MS-0011-R11A-SM-2HMJS</th>\n",
       "      <th>GTEX-N7MS-0011-R1a-SM-2HMJG</th>\n",
       "      <th>GTEX-N7MS-0011-R2a-SM-2HML6</th>\n",
       "      <th>GTEX-N7MS-0011-R3a-SM-33HC6</th>\n",
       "      <th>GTEX-N7MS-0011-R4a-SM-2HMKW</th>\n",
       "      <th>GTEX-N7MS-0011-R5a-SM-2HMK8</th>\n",
       "      <th>...</th>\n",
       "      <th>GTEX-X4LF-0526-SM-3NMB6</th>\n",
       "      <th>GTEX-X4LF-1726-SM-3NMBZ</th>\n",
       "      <th>GTEX-X4XX-0005-SM-3NMCS</th>\n",
       "      <th>GTEX-X4XX-0011-R1B-SM-3P622</th>\n",
       "      <th>GTEX-X4XX-0011-R2A-SM-3P623</th>\n",
       "      <th>GTEX-X4XX-0126-SM-3NMC2</th>\n",
       "      <th>GTEX-X4XX-0626-SM-3NMC1</th>\n",
       "      <th>GTEX-X4XX-1126-SM-3NMBY</th>\n",
       "      <th>GTEX-X4XX-2926-SM-3NMB1</th>\n",
       "      <th>GTEX-X4XX-3026-SM-3NMB2</th>\n",
       "    </tr>\n",
       "  </thead>\n",
       "  <tbody>\n",
       "    <tr>\n",
       "      <th>0</th>\n",
       "      <td>ENSG00000223972.4</td>\n",
       "      <td>DDX11L1</td>\n",
       "      <td>0.000000</td>\n",
       "      <td>0.000000</td>\n",
       "      <td>0.000000</td>\n",
       "      <td>0.000000</td>\n",
       "      <td>0.000000</td>\n",
       "      <td>0.029181</td>\n",
       "      <td>0.000000</td>\n",
       "      <td>0.000000</td>\n",
       "      <td>...</td>\n",
       "      <td>0.000000</td>\n",
       "      <td>0.000000</td>\n",
       "      <td>0.000000</td>\n",
       "      <td>0.000000</td>\n",
       "      <td>0.000000</td>\n",
       "      <td>0.000000</td>\n",
       "      <td>0.000000</td>\n",
       "      <td>0.000000</td>\n",
       "      <td>0.050261</td>\n",
       "      <td>0.000000</td>\n",
       "    </tr>\n",
       "    <tr>\n",
       "      <th>1</th>\n",
       "      <td>ENSG00000227232.3</td>\n",
       "      <td>WASH7P</td>\n",
       "      <td>2.917592</td>\n",
       "      <td>1.958602</td>\n",
       "      <td>5.841671</td>\n",
       "      <td>1.728239</td>\n",
       "      <td>2.315600</td>\n",
       "      <td>3.742634</td>\n",
       "      <td>2.269886</td>\n",
       "      <td>2.442356</td>\n",
       "      <td>...</td>\n",
       "      <td>9.417033</td>\n",
       "      <td>7.007399</td>\n",
       "      <td>6.276984</td>\n",
       "      <td>3.710413</td>\n",
       "      <td>5.769073</td>\n",
       "      <td>12.540883</td>\n",
       "      <td>4.696292</td>\n",
       "      <td>4.555761</td>\n",
       "      <td>9.459983</td>\n",
       "      <td>5.700174</td>\n",
       "    </tr>\n",
       "    <tr>\n",
       "      <th>2</th>\n",
       "      <td>ENSG00000243485.1</td>\n",
       "      <td>MIR1302-11</td>\n",
       "      <td>0.000000</td>\n",
       "      <td>0.000000</td>\n",
       "      <td>0.000000</td>\n",
       "      <td>0.000000</td>\n",
       "      <td>0.000000</td>\n",
       "      <td>0.000000</td>\n",
       "      <td>0.000000</td>\n",
       "      <td>0.000000</td>\n",
       "      <td>...</td>\n",
       "      <td>0.000000</td>\n",
       "      <td>0.000000</td>\n",
       "      <td>0.000000</td>\n",
       "      <td>0.000000</td>\n",
       "      <td>0.102921</td>\n",
       "      <td>0.000000</td>\n",
       "      <td>0.000000</td>\n",
       "      <td>0.000000</td>\n",
       "      <td>0.000000</td>\n",
       "      <td>0.000000</td>\n",
       "    </tr>\n",
       "    <tr>\n",
       "      <th>3</th>\n",
       "      <td>ENSG00000237613.2</td>\n",
       "      <td>FAM138A</td>\n",
       "      <td>0.000000</td>\n",
       "      <td>0.000000</td>\n",
       "      <td>0.000000</td>\n",
       "      <td>0.000000</td>\n",
       "      <td>0.000000</td>\n",
       "      <td>0.000000</td>\n",
       "      <td>0.000000</td>\n",
       "      <td>0.000000</td>\n",
       "      <td>...</td>\n",
       "      <td>0.000000</td>\n",
       "      <td>0.000000</td>\n",
       "      <td>0.000000</td>\n",
       "      <td>0.000000</td>\n",
       "      <td>0.000000</td>\n",
       "      <td>0.000000</td>\n",
       "      <td>0.000000</td>\n",
       "      <td>0.000000</td>\n",
       "      <td>0.000000</td>\n",
       "      <td>0.000000</td>\n",
       "    </tr>\n",
       "    <tr>\n",
       "      <th>4</th>\n",
       "      <td>ENSG00000240361.1</td>\n",
       "      <td>OR4G11P</td>\n",
       "      <td>0.000000</td>\n",
       "      <td>0.000000</td>\n",
       "      <td>0.000000</td>\n",
       "      <td>0.000000</td>\n",
       "      <td>0.000000</td>\n",
       "      <td>0.000000</td>\n",
       "      <td>0.000000</td>\n",
       "      <td>0.000000</td>\n",
       "      <td>...</td>\n",
       "      <td>0.000000</td>\n",
       "      <td>0.000000</td>\n",
       "      <td>0.000000</td>\n",
       "      <td>0.000000</td>\n",
       "      <td>0.000000</td>\n",
       "      <td>0.000000</td>\n",
       "      <td>0.000000</td>\n",
       "      <td>0.000000</td>\n",
       "      <td>0.015078</td>\n",
       "      <td>0.000000</td>\n",
       "    </tr>\n",
       "    <tr>\n",
       "      <th>...</th>\n",
       "      <td>...</td>\n",
       "      <td>...</td>\n",
       "      <td>...</td>\n",
       "      <td>...</td>\n",
       "      <td>...</td>\n",
       "      <td>...</td>\n",
       "      <td>...</td>\n",
       "      <td>...</td>\n",
       "      <td>...</td>\n",
       "      <td>...</td>\n",
       "      <td>...</td>\n",
       "      <td>...</td>\n",
       "      <td>...</td>\n",
       "      <td>...</td>\n",
       "      <td>...</td>\n",
       "      <td>...</td>\n",
       "      <td>...</td>\n",
       "      <td>...</td>\n",
       "      <td>...</td>\n",
       "      <td>...</td>\n",
       "      <td>...</td>\n",
       "    </tr>\n",
       "    <tr>\n",
       "      <th>52571</th>\n",
       "      <td>ENSG00000198786.2</td>\n",
       "      <td>MT-ND5</td>\n",
       "      <td>627.419189</td>\n",
       "      <td>3967.486572</td>\n",
       "      <td>1014.433228</td>\n",
       "      <td>4683.750000</td>\n",
       "      <td>2813.970947</td>\n",
       "      <td>2435.256104</td>\n",
       "      <td>3997.514893</td>\n",
       "      <td>5427.200684</td>\n",
       "      <td>...</td>\n",
       "      <td>3997.743164</td>\n",
       "      <td>1589.340210</td>\n",
       "      <td>277.970520</td>\n",
       "      <td>7192.353516</td>\n",
       "      <td>1723.450684</td>\n",
       "      <td>2418.593018</td>\n",
       "      <td>3559.731689</td>\n",
       "      <td>2795.689209</td>\n",
       "      <td>1894.077515</td>\n",
       "      <td>3302.491699</td>\n",
       "    </tr>\n",
       "    <tr>\n",
       "      <th>52572</th>\n",
       "      <td>ENSG00000198695.2</td>\n",
       "      <td>MT-ND6</td>\n",
       "      <td>553.020569</td>\n",
       "      <td>2737.471680</td>\n",
       "      <td>787.444824</td>\n",
       "      <td>3694.725342</td>\n",
       "      <td>1631.243652</td>\n",
       "      <td>2049.827148</td>\n",
       "      <td>2676.096191</td>\n",
       "      <td>3723.490234</td>\n",
       "      <td>...</td>\n",
       "      <td>6915.279297</td>\n",
       "      <td>1867.175537</td>\n",
       "      <td>400.203766</td>\n",
       "      <td>8612.575195</td>\n",
       "      <td>1159.216675</td>\n",
       "      <td>4115.834473</td>\n",
       "      <td>5160.529297</td>\n",
       "      <td>2533.044434</td>\n",
       "      <td>1654.201904</td>\n",
       "      <td>3118.078125</td>\n",
       "    </tr>\n",
       "    <tr>\n",
       "      <th>52573</th>\n",
       "      <td>ENSG00000210194.1</td>\n",
       "      <td>J01415.21</td>\n",
       "      <td>0.434417</td>\n",
       "      <td>0.000000</td>\n",
       "      <td>0.243951</td>\n",
       "      <td>0.847667</td>\n",
       "      <td>0.000000</td>\n",
       "      <td>0.357784</td>\n",
       "      <td>1.051482</td>\n",
       "      <td>0.811884</td>\n",
       "      <td>...</td>\n",
       "      <td>2.372880</td>\n",
       "      <td>0.214025</td>\n",
       "      <td>0.000000</td>\n",
       "      <td>0.974938</td>\n",
       "      <td>0.199876</td>\n",
       "      <td>0.621196</td>\n",
       "      <td>1.584828</td>\n",
       "      <td>0.217481</td>\n",
       "      <td>0.410828</td>\n",
       "      <td>0.000000</td>\n",
       "    </tr>\n",
       "    <tr>\n",
       "      <th>52574</th>\n",
       "      <td>ENSG00000198727.2</td>\n",
       "      <td>MT-CYB</td>\n",
       "      <td>2022.417969</td>\n",
       "      <td>20763.693359</td>\n",
       "      <td>7525.217285</td>\n",
       "      <td>24014.476562</td>\n",
       "      <td>13874.849609</td>\n",
       "      <td>12816.257812</td>\n",
       "      <td>18059.113281</td>\n",
       "      <td>26712.630859</td>\n",
       "      <td>...</td>\n",
       "      <td>7216.080078</td>\n",
       "      <td>9511.128906</td>\n",
       "      <td>1375.219727</td>\n",
       "      <td>24179.337891</td>\n",
       "      <td>3829.971191</td>\n",
       "      <td>10955.970703</td>\n",
       "      <td>10365.626953</td>\n",
       "      <td>20897.306641</td>\n",
       "      <td>7734.621094</td>\n",
       "      <td>12888.306641</td>\n",
       "    </tr>\n",
       "    <tr>\n",
       "      <th>52575</th>\n",
       "      <td>ENSG00000210195.2</td>\n",
       "      <td>J01415.22</td>\n",
       "      <td>0.000000</td>\n",
       "      <td>0.476469</td>\n",
       "      <td>0.255039</td>\n",
       "      <td>0.590798</td>\n",
       "      <td>0.371512</td>\n",
       "      <td>0.000000</td>\n",
       "      <td>0.000000</td>\n",
       "      <td>0.424394</td>\n",
       "      <td>...</td>\n",
       "      <td>0.000000</td>\n",
       "      <td>0.000000</td>\n",
       "      <td>0.000000</td>\n",
       "      <td>0.203851</td>\n",
       "      <td>0.208961</td>\n",
       "      <td>0.000000</td>\n",
       "      <td>0.828433</td>\n",
       "      <td>0.000000</td>\n",
       "      <td>0.000000</td>\n",
       "      <td>0.418731</td>\n",
       "    </tr>\n",
       "  </tbody>\n",
       "</table>\n",
       "<p>52576 rows × 1643 columns</p>\n",
       "</div>"
      ],
      "text/plain": [
       "                    Name Description  GTEX-N7MS-0007-SM-2D7W1  \\\n",
       "0      ENSG00000223972.4     DDX11L1                 0.000000   \n",
       "1      ENSG00000227232.3      WASH7P                 2.917592   \n",
       "2      ENSG00000243485.1  MIR1302-11                 0.000000   \n",
       "3      ENSG00000237613.2     FAM138A                 0.000000   \n",
       "4      ENSG00000240361.1     OR4G11P                 0.000000   \n",
       "...                  ...         ...                      ...   \n",
       "52571  ENSG00000198786.2      MT-ND5               627.419189   \n",
       "52572  ENSG00000198695.2      MT-ND6               553.020569   \n",
       "52573  ENSG00000210194.1   J01415.21                 0.434417   \n",
       "52574  ENSG00000198727.2      MT-CYB              2022.417969   \n",
       "52575  ENSG00000210195.2   J01415.22                 0.000000   \n",
       "\n",
       "       GTEX-N7MS-0011-R10A-SM-2HMJK  GTEX-N7MS-0011-R11A-SM-2HMJS  \\\n",
       "0                          0.000000                      0.000000   \n",
       "1                          1.958602                      5.841671   \n",
       "2                          0.000000                      0.000000   \n",
       "3                          0.000000                      0.000000   \n",
       "4                          0.000000                      0.000000   \n",
       "...                             ...                           ...   \n",
       "52571                   3967.486572                   1014.433228   \n",
       "52572                   2737.471680                    787.444824   \n",
       "52573                      0.000000                      0.243951   \n",
       "52574                  20763.693359                   7525.217285   \n",
       "52575                      0.476469                      0.255039   \n",
       "\n",
       "       GTEX-N7MS-0011-R1a-SM-2HMJG  GTEX-N7MS-0011-R2a-SM-2HML6  \\\n",
       "0                         0.000000                     0.000000   \n",
       "1                         1.728239                     2.315600   \n",
       "2                         0.000000                     0.000000   \n",
       "3                         0.000000                     0.000000   \n",
       "4                         0.000000                     0.000000   \n",
       "...                            ...                          ...   \n",
       "52571                  4683.750000                  2813.970947   \n",
       "52572                  3694.725342                  1631.243652   \n",
       "52573                     0.847667                     0.000000   \n",
       "52574                 24014.476562                 13874.849609   \n",
       "52575                     0.590798                     0.371512   \n",
       "\n",
       "       GTEX-N7MS-0011-R3a-SM-33HC6  GTEX-N7MS-0011-R4a-SM-2HMKW  \\\n",
       "0                         0.029181                     0.000000   \n",
       "1                         3.742634                     2.269886   \n",
       "2                         0.000000                     0.000000   \n",
       "3                         0.000000                     0.000000   \n",
       "4                         0.000000                     0.000000   \n",
       "...                            ...                          ...   \n",
       "52571                  2435.256104                  3997.514893   \n",
       "52572                  2049.827148                  2676.096191   \n",
       "52573                     0.357784                     1.051482   \n",
       "52574                 12816.257812                 18059.113281   \n",
       "52575                     0.000000                     0.000000   \n",
       "\n",
       "       GTEX-N7MS-0011-R5a-SM-2HMK8  ...  GTEX-X4LF-0526-SM-3NMB6  \\\n",
       "0                         0.000000  ...                 0.000000   \n",
       "1                         2.442356  ...                 9.417033   \n",
       "2                         0.000000  ...                 0.000000   \n",
       "3                         0.000000  ...                 0.000000   \n",
       "4                         0.000000  ...                 0.000000   \n",
       "...                            ...  ...                      ...   \n",
       "52571                  5427.200684  ...              3997.743164   \n",
       "52572                  3723.490234  ...              6915.279297   \n",
       "52573                     0.811884  ...                 2.372880   \n",
       "52574                 26712.630859  ...              7216.080078   \n",
       "52575                     0.424394  ...                 0.000000   \n",
       "\n",
       "       GTEX-X4LF-1726-SM-3NMBZ  GTEX-X4XX-0005-SM-3NMCS  \\\n",
       "0                     0.000000                 0.000000   \n",
       "1                     7.007399                 6.276984   \n",
       "2                     0.000000                 0.000000   \n",
       "3                     0.000000                 0.000000   \n",
       "4                     0.000000                 0.000000   \n",
       "...                        ...                      ...   \n",
       "52571              1589.340210               277.970520   \n",
       "52572              1867.175537               400.203766   \n",
       "52573                 0.214025                 0.000000   \n",
       "52574              9511.128906              1375.219727   \n",
       "52575                 0.000000                 0.000000   \n",
       "\n",
       "       GTEX-X4XX-0011-R1B-SM-3P622  GTEX-X4XX-0011-R2A-SM-3P623  \\\n",
       "0                         0.000000                     0.000000   \n",
       "1                         3.710413                     5.769073   \n",
       "2                         0.000000                     0.102921   \n",
       "3                         0.000000                     0.000000   \n",
       "4                         0.000000                     0.000000   \n",
       "...                            ...                          ...   \n",
       "52571                  7192.353516                  1723.450684   \n",
       "52572                  8612.575195                  1159.216675   \n",
       "52573                     0.974938                     0.199876   \n",
       "52574                 24179.337891                  3829.971191   \n",
       "52575                     0.203851                     0.208961   \n",
       "\n",
       "       GTEX-X4XX-0126-SM-3NMC2  GTEX-X4XX-0626-SM-3NMC1  \\\n",
       "0                     0.000000                 0.000000   \n",
       "1                    12.540883                 4.696292   \n",
       "2                     0.000000                 0.000000   \n",
       "3                     0.000000                 0.000000   \n",
       "4                     0.000000                 0.000000   \n",
       "...                        ...                      ...   \n",
       "52571              2418.593018              3559.731689   \n",
       "52572              4115.834473              5160.529297   \n",
       "52573                 0.621196                 1.584828   \n",
       "52574             10955.970703             10365.626953   \n",
       "52575                 0.000000                 0.828433   \n",
       "\n",
       "       GTEX-X4XX-1126-SM-3NMBY  GTEX-X4XX-2926-SM-3NMB1  \\\n",
       "0                     0.000000                 0.050261   \n",
       "1                     4.555761                 9.459983   \n",
       "2                     0.000000                 0.000000   \n",
       "3                     0.000000                 0.000000   \n",
       "4                     0.000000                 0.015078   \n",
       "...                        ...                      ...   \n",
       "52571              2795.689209              1894.077515   \n",
       "52572              2533.044434              1654.201904   \n",
       "52573                 0.217481                 0.410828   \n",
       "52574             20897.306641              7734.621094   \n",
       "52575                 0.000000                 0.000000   \n",
       "\n",
       "       GTEX-X4XX-3026-SM-3NMB2  \n",
       "0                     0.000000  \n",
       "1                     5.700174  \n",
       "2                     0.000000  \n",
       "3                     0.000000  \n",
       "4                     0.000000  \n",
       "...                        ...  \n",
       "52571              3302.491699  \n",
       "52572              3118.078125  \n",
       "52573                 0.000000  \n",
       "52574             12888.306641  \n",
       "52575                 0.418731  \n",
       "\n",
       "[52576 rows x 1643 columns]"
      ]
     },
     "execution_count": 7,
     "metadata": {},
     "output_type": "execute_result"
    }
   ],
   "source": [
    "# download the data from the GTEx portal\n",
    "# wget https://storage.googleapis.com/gtex_analysis_pilot_v3/rna_seq_data/GTEx_Analysis_RNA-seq_RNA-SeQCv1.1.8_gene_rpkm__Pilot_V3_patch1.gct.gz\n",
    "\n",
    "# then glance at the file\n",
    "# gzcat ~/Downloads/GTEx_Analysis_RNA-seq_RNA-SeQCv1.1.8_gene_rpkm__Pilot_V3_patch1.gct.gz | less -S\n",
    "\n",
    "df_rpkms = pd.read_csv(\"~/Downloads/GTEx_Analysis_RNA-seq_RNA-SeQCv1.1.8_gene_rpkm__Pilot_V3_patch1.gct.gz\", skiprows = 2, compression = \"gzip\", sep = \"\\t\")\n",
    "df_rpkms"
   ]
  },
  {
   "cell_type": "code",
   "execution_count": 4,
   "metadata": {
    "scrolled": true
   },
   "outputs": [
    {
     "ename": "NameError",
     "evalue": "name 'df_rpkms' is not defined",
     "output_type": "error",
     "traceback": [
      "\u001b[0;31m---------------------------------------------------------------------------\u001b[0m",
      "\u001b[0;31mNameError\u001b[0m                                 Traceback (most recent call last)",
      "\u001b[0;32m<ipython-input-4-16b12c2720fb>\u001b[0m in \u001b[0;36m<module>\u001b[0;34m\u001b[0m\n\u001b[0;32m----> 1\u001b[0;31m \u001b[0mdf_rpkms\u001b[0m\u001b[0;34m.\u001b[0m\u001b[0mdescribe\u001b[0m\u001b[0;34m(\u001b[0m\u001b[0;34m)\u001b[0m\u001b[0;34m\u001b[0m\u001b[0;34m\u001b[0m\u001b[0m\n\u001b[0m",
      "\u001b[0;31mNameError\u001b[0m: name 'df_rpkms' is not defined"
     ]
    }
   ],
   "source": [
    "df_rpkms.describe()"
   ]
  },
  {
   "cell_type": "code",
   "execution_count": null,
   "metadata": {},
   "outputs": [],
   "source": [
    "df_rpkms.median(axis = 1)"
   ]
  },
  {
   "cell_type": "code",
   "execution_count": null,
   "metadata": {},
   "outputs": [],
   "source": [
    "roi = df_rpkms.median(axis = 1) > 0\n",
    "roi"
   ]
  },
  {
   "cell_type": "code",
   "execution_count": null,
   "metadata": {},
   "outputs": [],
   "source": [
    "# subset to genes with median expression > 0 across samples\n",
    "df_rpkms = df_rpkms.loc[roi,]\n",
    "df_rpkms.shape"
   ]
  },
  {
   "cell_type": "code",
   "execution_count": null,
   "metadata": {},
   "outputs": [],
   "source": [
    "# download the metadata\n",
    "# wget https://storage.googleapis.com/gtex_analysis_pilot_v3/annotations/GTEx_Analysis_Annotations_Sample_DS__Pilot_V3.txt\n",
    "\n",
    "df_metadata = pd.read_csv(\"~/Downloads/GTEx_Analysis_Annotations_Sample_DS__Pilot_V3.txt\")\n",
    "df_metadata"
   ]
  },
  {
   "cell_type": "code",
   "execution_count": null,
   "metadata": {},
   "outputs": [],
   "source": [
    "# read the help\n",
    "pd.read_csv?"
   ]
  },
  {
   "cell_type": "code",
   "execution_count": null,
   "metadata": {},
   "outputs": [],
   "source": [
    "df_metadata = pd.read_csv( \"/Users/rajivmccoy/Downloads/GTEx_Analysis_Annotations_Sample_DS__Pilot_V3.txt\", sep = \"\\t\")\n",
    "df_metadata"
   ]
  },
  {
   "cell_type": "code",
   "execution_count": null,
   "metadata": {},
   "outputs": [],
   "source": [
    "df_rpkms.columns.values"
   ]
  },
  {
   "cell_type": "code",
   "execution_count": null,
   "metadata": {},
   "outputs": [],
   "source": [
    "sample_names = df_rpkms.columns.values[2:]\n",
    "sample_names"
   ]
  },
  {
   "cell_type": "code",
   "execution_count": null,
   "metadata": {},
   "outputs": [],
   "source": [
    "df_metadata['SAMPID']"
   ]
  },
  {
   "cell_type": "code",
   "execution_count": null,
   "metadata": {},
   "outputs": [],
   "source": [
    "roi = df_metadata['SAMPID'].isin(sample_names)\n",
    "df_metadata = df_metadata.loc[roi]\n",
    "df_metadata"
   ]
  },
  {
   "cell_type": "code",
   "execution_count": null,
   "metadata": {},
   "outputs": [],
   "source": [
    "df_metadata['SAMPID'] == sample_names"
   ]
  },
  {
   "cell_type": "code",
   "execution_count": null,
   "metadata": {},
   "outputs": [],
   "source": [
    "(df_metadata['SAMPID'] == sample_names).value_counts()"
   ]
  },
  {
   "cell_type": "markdown",
   "metadata": {},
   "source": [
    "## PCA"
   ]
  },
  {
   "cell_type": "code",
   "execution_count": null,
   "metadata": {},
   "outputs": [],
   "source": [
    "pca_input = df_rpkms.iloc[:,2:].to_numpy()\n",
    "type(pca_input)"
   ]
  },
  {
   "cell_type": "code",
   "execution_count": null,
   "metadata": {},
   "outputs": [],
   "source": [
    "pca_input.shape"
   ]
  },
  {
   "cell_type": "code",
   "execution_count": null,
   "metadata": {},
   "outputs": [],
   "source": [
    "pca_input = pca_input.T\n",
    "pca_input.shape"
   ]
  },
  {
   "cell_type": "code",
   "execution_count": null,
   "metadata": {},
   "outputs": [],
   "source": [
    "pca_input.mean(axis = 0)"
   ]
  },
  {
   "cell_type": "code",
   "execution_count": null,
   "metadata": {},
   "outputs": [],
   "source": [
    "pca_input.var(axis = 0)"
   ]
  },
  {
   "cell_type": "code",
   "execution_count": null,
   "metadata": {},
   "outputs": [],
   "source": [
    "# standardize the genes to zero mean and unit variance\n",
    "pca_input_standardized = StandardScaler().fit_transform(pca_input)\n",
    "pca_input_standardized.mean(axis = 0)"
   ]
  },
  {
   "cell_type": "code",
   "execution_count": null,
   "metadata": {},
   "outputs": [],
   "source": [
    "pca_input_standardized.var(axis = 0)"
   ]
  },
  {
   "cell_type": "code",
   "execution_count": null,
   "metadata": {},
   "outputs": [],
   "source": [
    "pca = PCA(n_components = 10)\n",
    "pca_output = pca.fit_transform(pca_input_standardized)"
   ]
  },
  {
   "cell_type": "code",
   "execution_count": null,
   "metadata": {},
   "outputs": [],
   "source": [
    "pca_output_df = pd.DataFrame(data = pca_output, \n",
    "                             columns = ['PC1', 'PC2', 'PC3', 'PC4', 'PC5', 'PC6', 'PC7', 'PC8', 'PC9', 'PC10'])\n",
    "pca_output_df"
   ]
  },
  {
   "cell_type": "code",
   "execution_count": null,
   "metadata": {},
   "outputs": [],
   "source": [
    "pca.explained_variance_ratio_"
   ]
  },
  {
   "cell_type": "code",
   "execution_count": null,
   "metadata": {},
   "outputs": [],
   "source": [
    "fig, ax = plt.subplots()\n",
    "ax.bar(range(1, 11, 1), pca.explained_variance_ratio_)"
   ]
  },
  {
   "cell_type": "markdown",
   "metadata": {},
   "source": [
    "## Plot the data"
   ]
  },
  {
   "cell_type": "code",
   "execution_count": null,
   "metadata": {},
   "outputs": [],
   "source": [
    "fig, ax = plt.subplots()\n",
    "ax.scatter(x = pca_output_df['PC1'], y = pca_output_df['PC2'])"
   ]
  },
  {
   "cell_type": "code",
   "execution_count": null,
   "metadata": {},
   "outputs": [],
   "source": [
    "help(plt.scatter)"
   ]
  },
  {
   "cell_type": "code",
   "execution_count": null,
   "metadata": {},
   "outputs": [],
   "source": [
    "pca_output_df['SMTS'] = df_metadata['SMTS']\n",
    "pca_output_df"
   ]
  },
  {
   "cell_type": "code",
   "execution_count": null,
   "metadata": {},
   "outputs": [],
   "source": [
    "pca_output_df['Tissue'] = df_metadata['SMTS'].tolist()\n",
    "pca_output_df"
   ]
  },
  {
   "cell_type": "code",
   "execution_count": null,
   "metadata": {},
   "outputs": [],
   "source": [
    "fig, ax = plt.subplots()\n",
    "groups = pca_output_df.groupby(\"Tissue\")\n",
    "for name, group in groups:\n",
    "    ax.scatter(x = group['PC1'], y = group['PC2'], label = name)\n",
    "\n",
    "plt.legend()\n",
    "fig.subplots_adjust(bottom=0.2)"
   ]
  },
  {
   "cell_type": "code",
   "execution_count": null,
   "metadata": {},
   "outputs": [],
   "source": [
    "fig, ax = plt.subplots()\n",
    "groups = pca_output_df.groupby(\"Tissue\")\n",
    "for name, group in groups:\n",
    "    ax.scatter(x = group['PC1'], y = group['PC2'], label = name)\n",
    "\n",
    "plt.legend(bbox_to_anchor = (1.7, 1), loc = 'upper right', ncol = 2)"
   ]
  },
  {
   "cell_type": "code",
   "execution_count": null,
   "metadata": {},
   "outputs": [],
   "source": [
    "fig, ax = plt.subplots()\n",
    "groups = pca_output_df.groupby(\"Tissue\")\n",
    "for name, group in groups:\n",
    "    ax.scatter(x = group['PC1'], y = group['PC6'], label = name)\n",
    "\n",
    "plt.legend(bbox_to_anchor = (1.7, 1), loc = 'upper right', ncol = 2)"
   ]
  },
  {
   "cell_type": "markdown",
   "metadata": {},
   "source": [
    "## Exercise"
   ]
  },
  {
   "cell_type": "code",
   "execution_count": null,
   "metadata": {},
   "outputs": [],
   "source": [
    "# Extract data from a single tissue\n",
    "# perform PCA\n",
    "# explore the metadata frame\n",
    "# is there any variable that is correlated with the top principal components?"
   ]
  },
  {
   "cell_type": "code",
   "execution_count": null,
   "metadata": {},
   "outputs": [],
   "source": []
  }
 ],
 "metadata": {
  "kernelspec": {
   "display_name": "Python 3",
   "language": "python",
   "name": "python3"
  },
  "language_info": {
   "codemirror_mode": {
    "name": "ipython",
    "version": 3
   },
   "file_extension": ".py",
   "mimetype": "text/x-python",
   "name": "python",
   "nbconvert_exporter": "python",
   "pygments_lexer": "ipython3",
   "version": "3.7.4"
  },
  "toc": {
   "base_numbering": 1,
   "nav_menu": {},
   "number_sections": false,
   "sideBar": true,
   "skip_h1_title": false,
   "title_cell": "Table of Contents",
   "title_sidebar": "Contents",
   "toc_cell": false,
   "toc_position": {},
   "toc_section_display": true,
   "toc_window_display": true
  }
 },
 "nbformat": 4,
 "nbformat_minor": 4
}
